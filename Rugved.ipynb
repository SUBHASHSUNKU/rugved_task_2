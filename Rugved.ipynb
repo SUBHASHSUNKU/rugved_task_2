{
 "cells": [
  {
   "cell_type": "markdown",
   "id": "07a30470-2aa7-478c-90b7-cee671148130",
   "metadata": {},
   "source": [
    "<center><h1>IPL DATA ANALSIS</h1></center>\n"
   ]
  },
  {
   "cell_type": "code",
   "execution_count": 2,
   "id": "9a9afdec-a45e-4b72-8bb8-704c347bcf32",
   "metadata": {},
   "outputs": [],
   "source": [
    "import pandas as pd\n",
    "df = pd.read_csv('matches.csv')"
   ]
  },
  {
   "cell_type": "markdown",
   "id": "2b7707f6-662a-4f41-bfdb-00d32b9c9933",
   "metadata": {},
   "source": [
    "## 1) Count the total number of matches conducted in the year 2008"
   ]
  },
  {
   "cell_type": "code",
   "execution_count": 3,
   "id": "f8d464e7-fbd2-4ece-86f2-074fcff1b5c3",
   "metadata": {},
   "outputs": [
    {
     "name": "stdout",
     "output_type": "stream",
     "text": [
      "The Total Number of Matches Conducted in year 2008 is 58\n"
     ]
    }
   ],
   "source": [
    "count_by_season = df['season'].value_counts()\n",
    "print('The Total Number of Matches Conducted in year 2008 is ' + str(count_by_season[2008]))"
   ]
  },
  {
   "cell_type": "markdown",
   "id": "0027bf9c-aaa6-4d6c-84a3-29024bdac6c9",
   "metadata": {},
   "source": [
    "## 2) Find the city name where maximum and minimum number of matches conducted"
   ]
  },
  {
   "cell_type": "code",
   "execution_count": 4,
   "id": "32d807e2-ebb0-4bc4-8697-a3946498ae09",
   "metadata": {},
   "outputs": [
    {
     "name": "stdout",
     "output_type": "stream",
     "text": [
      "Maximum Matches- Mumbai\n",
      "Minimum Matches - Bloemfontein\n"
     ]
    }
   ],
   "source": [
    "count_by_city = df['city'].value_counts()\n",
    "print('Maximum Matches- ' + count_by_city.index[0])\n",
    "print('Minimum Matches - ' + count_by_city.index[-1])"
   ]
  },
  {
   "cell_type": "markdown",
   "id": "3a21a4ed-0598-4ea1-9000-3f9d662b2815",
   "metadata": {},
   "source": [
    "## 3) Find total count of matches city wise"
   ]
  },
  {
   "cell_type": "code",
   "execution_count": 5,
   "id": "48f33b96-6e8b-4257-a0e5-9998bce351d8",
   "metadata": {},
   "outputs": [
    {
     "data": {
      "text/plain": [
       "city\n",
       "Mumbai            101\n",
       "Kolkata            77\n",
       "Delhi              74\n",
       "Bangalore          66\n",
       "Hyderabad          64\n",
       "Chennai            57\n",
       "Jaipur             47\n",
       "Chandigarh         46\n",
       "Pune               38\n",
       "Durban             15\n",
       "Bengaluru          14\n",
       "Visakhapatnam      13\n",
       "Centurion          12\n",
       "Ahmedabad          12\n",
       "Rajkot             10\n",
       "Mohali             10\n",
       "Indore              9\n",
       "Dharamsala          9\n",
       "Johannesburg        8\n",
       "Cuttack             7\n",
       "Ranchi              7\n",
       "Port Elizabeth      7\n",
       "Cape Town           7\n",
       "Abu Dhabi           7\n",
       "Sharjah             6\n",
       "Raipur              6\n",
       "Kochi               5\n",
       "Kanpur              4\n",
       "Nagpur              3\n",
       "Kimberley           3\n",
       "East London         3\n",
       "Bloemfontein        2\n",
       "Name: count, dtype: int64"
      ]
     },
     "execution_count": 5,
     "metadata": {},
     "output_type": "execute_result"
    }
   ],
   "source": [
    "df['city'].value_counts()"
   ]
  },
  {
   "cell_type": "markdown",
   "id": "15a8d557-fd74-4792-88ab-7a48a4b19cc5",
   "metadata": {},
   "source": [
    "## 4) Find the Team which is maximum and minimum toss winner"
   ]
  },
  {
   "cell_type": "code",
   "execution_count": 6,
   "id": "682eff10-3896-4b97-8019-0d5b2a39fa71",
   "metadata": {},
   "outputs": [
    {
     "name": "stdout",
     "output_type": "stream",
     "text": [
      "Maximum Toss Winner - Mumbai Indians\n",
      "Minimum Toss Winner - Rising Pune Supergiant\n"
     ]
    }
   ],
   "source": [
    "count_by_toss = df['toss_winner'].value_counts()\n",
    "print('Maximum Toss Winner - ' + count_by_toss.index[0])\n",
    "print('Minimum Toss Winner - ' + count_by_toss.index[-1])"
   ]
  },
  {
   "cell_type": "markdown",
   "id": "a9bb560e-c0c9-4e12-b3bc-cff73ff7f4b5",
   "metadata": {},
   "source": [
    "## 5) Check the toss decision that the team has taken"
   ]
  },
  {
   "cell_type": "code",
   "execution_count": 7,
   "id": "b4b78932-a6bd-4c72-a3a9-648190822872",
   "metadata": {},
   "outputs": [
    {
     "name": "stdout",
     "output_type": "stream",
     "text": [
      "Maximum Toss Winner - \n",
      "toss_decision\n",
      "field    54\n",
      "bat      44\n",
      "Name: count, dtype: int64\n",
      "Minimum Toss Winner - \n",
      "toss_decision\n",
      "field    6\n",
      "Name: count, dtype: int64\n"
     ]
    }
   ],
   "source": [
    "count_by_toss = df['toss_winner'].value_counts()\n",
    "team_group = df.groupby('toss_winner')\n",
    "team_group_count = team_group['toss_decision'].value_counts()\n",
    "\n",
    "print('Maximum Toss Winner - ')\n",
    "print(team_group_count.loc[count_by_toss.index[0]])\n",
    "\n",
    "print('Minimum Toss Winner - ')\n",
    "print(team_group_count.loc[count_by_toss.index[-1]])\n"
   ]
  },
  {
   "cell_type": "markdown",
   "id": "a17e65f6-896e-4798-b804-c58d96aef6d8",
   "metadata": {},
   "source": [
    "## 6) Count the total number of normal and tie matches"
   ]
  },
  {
   "cell_type": "code",
   "execution_count": 8,
   "id": "d33df9ff-d791-4272-a959-5350291ecdb8",
   "metadata": {},
   "outputs": [
    {
     "name": "stdout",
     "output_type": "stream",
     "text": [
      "Normal Matches - 743\n",
      "Tie Matches - 9\n"
     ]
    }
   ],
   "source": [
    "Count_by_Result = df['result'].value_counts()\n",
    "print('Normal Matches - '+str(Count_by_Result.iloc[0]))\n",
    "print('Tie Matches - '+str(Count_by_Result.iloc[1]))"
   ]
  },
  {
   "cell_type": "markdown",
   "id": "72c6392e-ff00-43a1-a8dd-78f18ceda6c5",
   "metadata": {},
   "source": [
    "## 7) Find the team names where the match result is tie"
   ]
  },
  {
   "cell_type": "code",
   "execution_count": 9,
   "id": "803b5f6a-c260-4d75-891b-3eb8d24439bf",
   "metadata": {},
   "outputs": [
    {
     "name": "stdout",
     "output_type": "stream",
     "text": [
      "The Following Pairs of Matches have a Tie\n"
     ]
    },
    {
     "data": {
      "text/html": [
       "<div>\n",
       "<style scoped>\n",
       "    .dataframe tbody tr th:only-of-type {\n",
       "        vertical-align: middle;\n",
       "    }\n",
       "\n",
       "    .dataframe tbody tr th {\n",
       "        vertical-align: top;\n",
       "    }\n",
       "\n",
       "    .dataframe thead th {\n",
       "        text-align: right;\n",
       "    }\n",
       "</style>\n",
       "<table border=\"1\" class=\"dataframe\">\n",
       "  <thead>\n",
       "    <tr style=\"text-align: right;\">\n",
       "      <th></th>\n",
       "      <th>team1</th>\n",
       "      <th>team2</th>\n",
       "    </tr>\n",
       "  </thead>\n",
       "  <tbody>\n",
       "    <tr>\n",
       "      <th>33</th>\n",
       "      <td>Gujarat Lions</td>\n",
       "      <td>Mumbai Indians</td>\n",
       "    </tr>\n",
       "    <tr>\n",
       "      <th>125</th>\n",
       "      <td>Rajasthan Royals</td>\n",
       "      <td>Kolkata Knight Riders</td>\n",
       "    </tr>\n",
       "    <tr>\n",
       "      <th>189</th>\n",
       "      <td>Kings XI Punjab</td>\n",
       "      <td>Chennai Super Kings</td>\n",
       "    </tr>\n",
       "    <tr>\n",
       "      <th>387</th>\n",
       "      <td>Royal Challengers Bangalore</td>\n",
       "      <td>Sunrisers Hyderabad</td>\n",
       "    </tr>\n",
       "    <tr>\n",
       "      <th>400</th>\n",
       "      <td>Delhi Daredevils</td>\n",
       "      <td>Royal Challengers Bangalore</td>\n",
       "    </tr>\n",
       "    <tr>\n",
       "      <th>475</th>\n",
       "      <td>Rajasthan Royals</td>\n",
       "      <td>Kolkata Knight Riders</td>\n",
       "    </tr>\n",
       "    <tr>\n",
       "      <th>535</th>\n",
       "      <td>Rajasthan Royals</td>\n",
       "      <td>Kings XI Punjab</td>\n",
       "    </tr>\n",
       "    <tr>\n",
       "      <th>705</th>\n",
       "      <td>Kolkata Knight Riders</td>\n",
       "      <td>Delhi Capitals</td>\n",
       "    </tr>\n",
       "    <tr>\n",
       "      <th>746</th>\n",
       "      <td>Mumbai Indians</td>\n",
       "      <td>Sunrisers Hyderabad</td>\n",
       "    </tr>\n",
       "  </tbody>\n",
       "</table>\n",
       "</div>"
      ],
      "text/plain": [
       "                           team1                        team2\n",
       "33                 Gujarat Lions               Mumbai Indians\n",
       "125             Rajasthan Royals        Kolkata Knight Riders\n",
       "189              Kings XI Punjab          Chennai Super Kings\n",
       "387  Royal Challengers Bangalore          Sunrisers Hyderabad\n",
       "400             Delhi Daredevils  Royal Challengers Bangalore\n",
       "475             Rajasthan Royals        Kolkata Knight Riders\n",
       "535             Rajasthan Royals              Kings XI Punjab\n",
       "705        Kolkata Knight Riders               Delhi Capitals\n",
       "746               Mumbai Indians          Sunrisers Hyderabad"
      ]
     },
     "execution_count": 9,
     "metadata": {},
     "output_type": "execute_result"
    }
   ],
   "source": [
    "Tie_Teams_Pairs = df.loc[(df['result'] == 'tie'),['team1','team2']]\n",
    "print('The Following Pairs of Matches have a Tie')\n",
    "Tie_Teams_Pairs"
   ]
  },
  {
   "cell_type": "markdown",
   "id": "c3d6e968-fabc-4ca7-8327-047777f1f25c",
   "metadata": {},
   "source": [
    "## 8) Find the team name who won the match by highest runs"
   ]
  },
  {
   "cell_type": "code",
   "execution_count": 14,
   "id": "47597daf-a160-43f7-b901-8359aada92ad",
   "metadata": {},
   "outputs": [
    {
     "name": "stdout",
     "output_type": "stream",
     "text": [
      "Mumbai Indians\n"
     ]
    }
   ],
   "source": [
    "team_high_runs_highest_runs = df['win_by_runs'].max()\n",
    "team_high_runs_highest_runs_teams = set(df.loc[(df['win_by_runs'] == team_high_runs_highest_runs), 'winner'])\n",
    "\n",
    "for team in team_high_runs_highest_runs_teams:\n",
    "    if team != 'nan':\n",
    "        print(team)\n"
   ]
  },
  {
   "cell_type": "markdown",
   "id": "de5e7ab6-d3b9-4bfc-8eeb-bcd4dde1dc2c",
   "metadata": {},
   "source": [
    "## 9) Find the team name who won the match by lowest runs"
   ]
  },
  {
   "cell_type": "code",
   "execution_count": 15,
   "id": "04fd8fc4-9ffc-4193-a553-ad75f1c2234c",
   "metadata": {},
   "outputs": [
    {
     "name": "stdout",
     "output_type": "stream",
     "text": [
      "Rising Pune Supergiant\n",
      "Royal Challengers Bangalore\n",
      "Gujarat Lions\n",
      "Delhi Daredevils\n",
      "nan\n",
      "Rising Pune Supergiants\n",
      "Rajasthan Royals\n",
      "Kolkata Knight Riders\n",
      "Kings XI Punjab\n",
      "Pune Warriors\n",
      "Kochi Tuskers Kerala\n",
      "Delhi Capitals\n",
      "Chennai Super Kings\n",
      "Deccan Chargers\n",
      "Sunrisers Hyderabad\n",
      "Mumbai Indians\n"
     ]
    }
   ],
   "source": [
    "team_low_runs_least_runs_teams = set(df.loc[df['win_by_runs'] == df['win_by_runs'].min(), 'winner'])\n",
    "\n",
    "for team in team_low_runs_least_runs_teams:\n",
    "    if team != 'nan':\n",
    "        print(team)\n"
   ]
  },
  {
   "cell_type": "markdown",
   "id": "135f4852-fce0-41b2-b1be-ca065a9ac490",
   "metadata": {},
   "source": [
    "## 10) Find the players who was awarded \"Player of the match\" more than 3 times"
   ]
  },
  {
   "cell_type": "code",
   "execution_count": 16,
   "id": "ac557f49-1cd0-4aba-8501-009c41a56f49",
   "metadata": {},
   "outputs": [
    {
     "name": "stdout",
     "output_type": "stream",
     "text": [
      "CH Gayle - 21\n",
      "AB de Villiers - 20\n",
      "RG Sharma - 17\n",
      "MS Dhoni - 17\n",
      "DA Warner - 17\n",
      "YK Pathan - 16\n",
      "SR Watson - 15\n",
      "SK Raina - 14\n",
      "G Gambhir - 13\n",
      "MEK Hussey - 12\n",
      "AM Rahane - 12\n",
      "V Kohli - 12\n",
      "V Sehwag - 11\n",
      "DR Smith - 11\n",
      "AD Russell - 11\n",
      "A Mishra - 11\n",
      "JH Kallis - 10\n",
      "KA Pollard - 10\n",
      "SE Marsh - 9\n",
      "AT Rayudu - 9\n",
      "SP Narine - 9\n",
      "Harbhajan Singh - 8\n",
      "SR Tendulkar - 8\n",
      "RA Jadeja - 8\n",
      "UT Yadav - 8\n",
      "Rashid Khan - 7\n",
      "RV Uthappa - 7\n",
      "AC Gilchrist - 7\n",
      "M Vijay - 6\n",
      "RR Pant - 6\n",
      "S Dhawan - 6\n",
      "SL Malinga - 6\n",
      "A Nehra - 6\n",
      "BJ Hodge - 6\n",
      "HH Pandya - 6\n",
      "SC Ganguly - 5\n",
      "SPD Smith - 5\n",
      "PA Patel - 5\n",
      "KC Sangakkara - 5\n",
      "DPMD Jayawardene - 5\n",
      "BB McCullum - 5\n",
      "JP Faulkner - 5\n",
      "AJ Finch - 5\n",
      "DW Steyn - 5\n",
      "Yuvraj Singh - 5\n",
      "SV Samson - 5\n",
      "GJ Maxwell - 5\n",
      "JJ Bumrah - 5\n",
      "Sandeep Sharma - 5\n",
      "JD Unadkat - 5\n",
      "JC Buttler - 5\n",
      "B Kumar - 5\n",
      "KL Rahul - 4\n",
      "KD Karthik - 4\n",
      "JP Duminy - 4\n",
      "MK Pandey - 4\n",
      "NM Coulter-Nile - 4\n",
      "AR Patel - 4\n",
      "N Rana - 4\n",
      "F du Plessis - 4\n",
      "SK Warne - 4\n",
      "CA Lynn - 4\n",
      "SS Iyer - 4\n",
      "ML Hayden - 4\n",
      "KH Pandya - 4\n"
     ]
    }
   ],
   "source": [
    "player_of_match_counts = df['player_of_match'].value_counts()\n",
    "player_of_match_counts_3 = player_of_match_counts.loc[player_of_match_counts > 3]\n",
    "\n",
    "for player in player_of_match_counts_3.index:\n",
    "    print(player + ' - ' + str(player_of_match_counts_3.loc[player]))\n"
   ]
  },
  {
   "cell_type": "markdown",
   "id": "6ab0ce59-4942-404d-81a5-1a60273abd09",
   "metadata": {},
   "source": [
    "## 11) Find the player who was awarded as player of the match maximum times"
   ]
  },
  {
   "cell_type": "code",
   "execution_count": 17,
   "id": "2cd715cb-9561-4f3d-8a4f-fdd1df353ef8",
   "metadata": {},
   "outputs": [
    {
     "name": "stdout",
     "output_type": "stream",
     "text": [
      "CH Gayle - 21\n"
     ]
    }
   ],
   "source": [
    "player_of_match_counts = df['player_of_match'].value_counts()\n",
    "player_of_match_counts_max = player_of_match_counts.loc[player_of_match_counts == player_of_match_counts.max()]\n",
    "\n",
    "for i in range(len(player_of_match_counts_max)):\n",
    "    print(player_of_match_counts_max.index[i] + ' - ' + str(player_of_match_counts_max.iloc[i]))\n"
   ]
  },
  {
   "cell_type": "markdown",
   "id": "0998cfc5-0bb3-49eb-8ae7-9abc57e48e68",
   "metadata": {},
   "source": [
    "## 12) Find the Venue where the team won the match by highest runs"
   ]
  },
  {
   "cell_type": "code",
   "execution_count": 72,
   "id": "e0eb68a6-6713-4167-bc3f-1d0a1d66c7ec",
   "metadata": {},
   "outputs": [
    {
     "name": "stdout",
     "output_type": "stream",
     "text": [
      "Feroz Shah Kotla\n"
     ]
    }
   ],
   "source": [
    "Team_High_Runs_Highest_Runs = df['win_by_runs'].max()\n",
    "Team_High_Runs_Highest_Runs_Venue = set(df.loc[(df['win_by_runs']==Team_High_Runs_Highest_Runs),'venue'])\n",
    "for venue in Team_High_Runs_Highest_Runs_Venue:\n",
    "    if(venue!='nan'):\n",
    "        print(venue)"
   ]
  },
  {
   "cell_type": "markdown",
   "id": "70002e5e-18ea-42bf-9d76-ddced9494106",
   "metadata": {},
   "source": [
    "## 13) Find the Venue where the team won the match by lowest runs"
   ]
  },
  {
   "cell_type": "code",
   "execution_count": 5,
   "id": "5812e885-a785-4dcb-bd89-cf94b7afe6e3",
   "metadata": {},
   "outputs": [
    {
     "data": {
      "text/plain": [
       "'Maharashtra Cricket Association Stadium'"
      ]
     },
     "execution_count": 5,
     "metadata": {},
     "output_type": "execute_result"
    }
   ],
   "source": [
    "df.loc[(df['win_by_runs']==0),'venue'].iloc[0]"
   ]
  },
  {
   "cell_type": "markdown",
   "id": "d3fdaad6-7847-452c-99d4-41aa9f391c72",
   "metadata": {},
   "source": [
    "## 14) Find the Umpires who did umpiring maximum times"
   ]
  },
  {
   "cell_type": "code",
   "execution_count": 74,
   "id": "2a95d3f1-bf8f-468b-a7d3-73d0775629e2",
   "metadata": {},
   "outputs": [
    {
     "name": "stdout",
     "output_type": "stream",
     "text": [
      "S Ravi - 114\n"
     ]
    }
   ],
   "source": [
    "umpires = pd.concat([df['umpire1'],df['umpire2'],df['umpire3']]).value_counts()\n",
    "umpires_max = umpires.max()\n",
    "for i in range(len(umpires.value_counts())):\n",
    "    if(umpires.iloc[i]==umpires_max):\n",
    "        print(umpires.index[i]+' - '+str(umpires.iloc[i]))"
   ]
  },
  {
   "cell_type": "markdown",
   "id": "3030ced6-887a-4ef8-bcf0-0eea9115351b",
   "metadata": {},
   "source": [
    "## 15) Find the Total matches played in each season"
   ]
  },
  {
   "cell_type": "code",
   "execution_count": 75,
   "id": "41c77633-5c09-4315-9c3f-e68985ac05fe",
   "metadata": {},
   "outputs": [
    {
     "data": {
      "text/plain": [
       "season\n",
       "2008    58\n",
       "2009    57\n",
       "2010    60\n",
       "2011    73\n",
       "2012    74\n",
       "2013    76\n",
       "2014    60\n",
       "2015    59\n",
       "2016    60\n",
       "2017    59\n",
       "2018    60\n",
       "2019    60\n",
       "Name: id, dtype: int64"
      ]
     },
     "execution_count": 75,
     "metadata": {},
     "output_type": "execute_result"
    }
   ],
   "source": [
    "seasons_group = df.groupby('season')\n",
    "seasons_group['id'].count()"
   ]
  }
 ],
 "metadata": {
  "kernelspec": {
   "display_name": "Python 3 (ipykernel)",
   "language": "python",
   "name": "python3"
  },
  "language_info": {
   "codemirror_mode": {
    "name": "ipython",
    "version": 3
   },
   "file_extension": ".py",
   "mimetype": "text/x-python",
   "name": "python",
   "nbconvert_exporter": "python",
   "pygments_lexer": "ipython3",
   "version": "3.11.6"
  }
 },
 "nbformat": 4,
 "nbformat_minor": 5
}
